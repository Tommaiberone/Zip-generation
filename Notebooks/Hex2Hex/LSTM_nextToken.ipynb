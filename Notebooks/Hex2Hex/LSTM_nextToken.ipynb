{
  "cells": [
    {
      "cell_type": "markdown",
      "metadata": {
        "id": "JkKtT4GK-7y1"
      },
      "source": [
        "# Imports and installation\n"
      ]
    },
    {
      "cell_type": "code",
      "execution_count": 1,
      "metadata": {
        "id": "woNI1XG6H-Bb"
      },
      "outputs": [],
      "source": [
        "%%capture\n",
        "!pip install lightning datasets"
      ]
    },
    {
      "cell_type": "code",
      "execution_count": 2,
      "metadata": {
        "colab": {
          "base_uri": "https://localhost:8080/"
        },
        "id": "tBg7g-c1A7kR",
        "outputId": "bbe0938a-0ed3-46ce-994a-068e44c1d387"
      },
      "outputs": [
        {
          "output_type": "stream",
          "name": "stderr",
          "text": [
            "INFO: Seed set to 999\n",
            "INFO:lightning.fabric.utilities.seed:Seed set to 999\n"
          ]
        },
        {
          "output_type": "execute_result",
          "data": {
            "text/plain": [
              "999"
            ]
          },
          "metadata": {},
          "execution_count": 2
        }
      ],
      "source": [
        "import pandas as pd\n",
        "import torch\n",
        "from datasets import load_dataset, Dataset, DatasetDict\n",
        "from torch.utils.data import DataLoader\n",
        "from typing import Dict, List, Tuple\n",
        "from dataclasses import dataclass\n",
        "from pprint import pprint\n",
        "import torch.nn as nn\n",
        "import torch.optim as optim\n",
        "import numpy as np\n",
        "import lightning as L\n",
        "import random\n",
        "\n",
        "SEED = 999\n",
        "BATCH_SIZE = 32\n",
        "torch.manual_seed(SEED)\n",
        "L.seed_everything(SEED)"
      ]
    },
    {
      "cell_type": "code",
      "source": [
        "device = torch.device('cuda' if torch.cuda.is_available() else 'cpu')\n",
        "device"
      ],
      "metadata": {
        "colab": {
          "base_uri": "https://localhost:8080/"
        },
        "id": "afxIsaS-8AhR",
        "outputId": "a1e4687d-f5ba-46b6-b32e-9a25e7350675"
      },
      "execution_count": 3,
      "outputs": [
        {
          "output_type": "execute_result",
          "data": {
            "text/plain": [
              "device(type='cuda')"
            ]
          },
          "metadata": {},
          "execution_count": 3
        }
      ]
    },
    {
      "cell_type": "code",
      "execution_count": 4,
      "metadata": {
        "colab": {
          "base_uri": "https://localhost:8080/"
        },
        "id": "CjTElz1Y_rhQ",
        "outputId": "53c27209-b56d-4c69-ceeb-a50aeb092674"
      },
      "outputs": [
        {
          "output_type": "stream",
          "name": "stdout",
          "text": [
            "Mounted at /content/drive\n"
          ]
        }
      ],
      "source": [
        "from google.colab import drive\n",
        "drive.mount('/content/drive')"
      ]
    },
    {
      "cell_type": "markdown",
      "source": [
        "# Data Preparation"
      ],
      "metadata": {
        "id": "mwbZbYZN_05Z"
      }
    },
    {
      "cell_type": "code",
      "execution_count": 5,
      "metadata": {
        "id": "f-sQt-E_Arl2"
      },
      "outputs": [],
      "source": [
        "df = pd.read_csv('/content/drive/MyDrive/kaggle/shorthex.csv')"
      ]
    },
    {
      "cell_type": "code",
      "source": [
        "df.head()"
      ],
      "metadata": {
        "colab": {
          "base_uri": "https://localhost:8080/",
          "height": 206
        },
        "id": "aT-D7npnp_3p",
        "outputId": "bcc0e7d5-cc0d-423b-fc54-0ddd1983ef14"
      },
      "execution_count": 6,
      "outputs": [
        {
          "output_type": "execute_result",
          "data": {
            "text/plain": [
              "                             text  \\\n",
              "0                One of the other   \n",
              "1  A wonderful little production.   \n",
              "2              I thought this was   \n",
              "3      Basically there's a family   \n",
              "4        Petter Mattei's \"Love in   \n",
              "\n",
              "                                            text_hex  \\\n",
              "0                   4f6e65206f6620746865206f74686572   \n",
              "1  4120776f6e64657266756c206c6974746c652070726f64...   \n",
              "2               492074686f75676874207468697320776173   \n",
              "3  4261736963616c6c79207468657265277320612066616d...   \n",
              "4   506574746572204d6174746569277320224c6f766520696e   \n",
              "\n",
              "                                         deflate_hex  \n",
              "0         789cf3cf4b55c84f5328c9005240a208002eb405bb  \n",
              "1  789c735428cfcf4b492d4a2bcd51c8c92c29c949552828...  \n",
              "2   789cf35428c9c82f4dcf2801d299c50ae589c5003dea06b0  \n",
              "3  789c734a2cce4c4eccc9a95428c9482d4a552f56485448...  \n",
              "4  789c0b482d29492d52f04d045299eac50a4a3ef965a90a...  "
            ],
            "text/html": [
              "\n",
              "  <div id=\"df-a98a1379-a2e6-4a1a-b58c-fe54c0476c18\" class=\"colab-df-container\">\n",
              "    <div>\n",
              "<style scoped>\n",
              "    .dataframe tbody tr th:only-of-type {\n",
              "        vertical-align: middle;\n",
              "    }\n",
              "\n",
              "    .dataframe tbody tr th {\n",
              "        vertical-align: top;\n",
              "    }\n",
              "\n",
              "    .dataframe thead th {\n",
              "        text-align: right;\n",
              "    }\n",
              "</style>\n",
              "<table border=\"1\" class=\"dataframe\">\n",
              "  <thead>\n",
              "    <tr style=\"text-align: right;\">\n",
              "      <th></th>\n",
              "      <th>text</th>\n",
              "      <th>text_hex</th>\n",
              "      <th>deflate_hex</th>\n",
              "    </tr>\n",
              "  </thead>\n",
              "  <tbody>\n",
              "    <tr>\n",
              "      <th>0</th>\n",
              "      <td>One of the other</td>\n",
              "      <td>4f6e65206f6620746865206f74686572</td>\n",
              "      <td>789cf3cf4b55c84f5328c9005240a208002eb405bb</td>\n",
              "    </tr>\n",
              "    <tr>\n",
              "      <th>1</th>\n",
              "      <td>A wonderful little production.</td>\n",
              "      <td>4120776f6e64657266756c206c6974746c652070726f64...</td>\n",
              "      <td>789c735428cfcf4b492d4a2bcd51c8c92c29c949552828...</td>\n",
              "    </tr>\n",
              "    <tr>\n",
              "      <th>2</th>\n",
              "      <td>I thought this was</td>\n",
              "      <td>492074686f75676874207468697320776173</td>\n",
              "      <td>789cf35428c9c82f4dcf2801d299c50ae589c5003dea06b0</td>\n",
              "    </tr>\n",
              "    <tr>\n",
              "      <th>3</th>\n",
              "      <td>Basically there's a family</td>\n",
              "      <td>4261736963616c6c79207468657265277320612066616d...</td>\n",
              "      <td>789c734a2cce4c4eccc9a95428c9482d4a552f56485448...</td>\n",
              "    </tr>\n",
              "    <tr>\n",
              "      <th>4</th>\n",
              "      <td>Petter Mattei's \"Love in</td>\n",
              "      <td>506574746572204d6174746569277320224c6f766520696e</td>\n",
              "      <td>789c0b482d29492d52f04d045299eac50a4a3ef965a90a...</td>\n",
              "    </tr>\n",
              "  </tbody>\n",
              "</table>\n",
              "</div>\n",
              "    <div class=\"colab-df-buttons\">\n",
              "\n",
              "  <div class=\"colab-df-container\">\n",
              "    <button class=\"colab-df-convert\" onclick=\"convertToInteractive('df-a98a1379-a2e6-4a1a-b58c-fe54c0476c18')\"\n",
              "            title=\"Convert this dataframe to an interactive table.\"\n",
              "            style=\"display:none;\">\n",
              "\n",
              "  <svg xmlns=\"http://www.w3.org/2000/svg\" height=\"24px\" viewBox=\"0 -960 960 960\">\n",
              "    <path d=\"M120-120v-720h720v720H120Zm60-500h600v-160H180v160Zm220 220h160v-160H400v160Zm0 220h160v-160H400v160ZM180-400h160v-160H180v160Zm440 0h160v-160H620v160ZM180-180h160v-160H180v160Zm440 0h160v-160H620v160Z\"/>\n",
              "  </svg>\n",
              "    </button>\n",
              "\n",
              "  <style>\n",
              "    .colab-df-container {\n",
              "      display:flex;\n",
              "      gap: 12px;\n",
              "    }\n",
              "\n",
              "    .colab-df-convert {\n",
              "      background-color: #E8F0FE;\n",
              "      border: none;\n",
              "      border-radius: 50%;\n",
              "      cursor: pointer;\n",
              "      display: none;\n",
              "      fill: #1967D2;\n",
              "      height: 32px;\n",
              "      padding: 0 0 0 0;\n",
              "      width: 32px;\n",
              "    }\n",
              "\n",
              "    .colab-df-convert:hover {\n",
              "      background-color: #E2EBFA;\n",
              "      box-shadow: 0px 1px 2px rgba(60, 64, 67, 0.3), 0px 1px 3px 1px rgba(60, 64, 67, 0.15);\n",
              "      fill: #174EA6;\n",
              "    }\n",
              "\n",
              "    .colab-df-buttons div {\n",
              "      margin-bottom: 4px;\n",
              "    }\n",
              "\n",
              "    [theme=dark] .colab-df-convert {\n",
              "      background-color: #3B4455;\n",
              "      fill: #D2E3FC;\n",
              "    }\n",
              "\n",
              "    [theme=dark] .colab-df-convert:hover {\n",
              "      background-color: #434B5C;\n",
              "      box-shadow: 0px 1px 3px 1px rgba(0, 0, 0, 0.15);\n",
              "      filter: drop-shadow(0px 1px 2px rgba(0, 0, 0, 0.3));\n",
              "      fill: #FFFFFF;\n",
              "    }\n",
              "  </style>\n",
              "\n",
              "    <script>\n",
              "      const buttonEl =\n",
              "        document.querySelector('#df-a98a1379-a2e6-4a1a-b58c-fe54c0476c18 button.colab-df-convert');\n",
              "      buttonEl.style.display =\n",
              "        google.colab.kernel.accessAllowed ? 'block' : 'none';\n",
              "\n",
              "      async function convertToInteractive(key) {\n",
              "        const element = document.querySelector('#df-a98a1379-a2e6-4a1a-b58c-fe54c0476c18');\n",
              "        const dataTable =\n",
              "          await google.colab.kernel.invokeFunction('convertToInteractive',\n",
              "                                                    [key], {});\n",
              "        if (!dataTable) return;\n",
              "\n",
              "        const docLinkHtml = 'Like what you see? Visit the ' +\n",
              "          '<a target=\"_blank\" href=https://colab.research.google.com/notebooks/data_table.ipynb>data table notebook</a>'\n",
              "          + ' to learn more about interactive tables.';\n",
              "        element.innerHTML = '';\n",
              "        dataTable['output_type'] = 'display_data';\n",
              "        await google.colab.output.renderOutput(dataTable, element);\n",
              "        const docLink = document.createElement('div');\n",
              "        docLink.innerHTML = docLinkHtml;\n",
              "        element.appendChild(docLink);\n",
              "      }\n",
              "    </script>\n",
              "  </div>\n",
              "\n",
              "\n",
              "<div id=\"df-5c77c3a0-0e04-4dbd-8577-d7dce87fe4b9\">\n",
              "  <button class=\"colab-df-quickchart\" onclick=\"quickchart('df-5c77c3a0-0e04-4dbd-8577-d7dce87fe4b9')\"\n",
              "            title=\"Suggest charts\"\n",
              "            style=\"display:none;\">\n",
              "\n",
              "<svg xmlns=\"http://www.w3.org/2000/svg\" height=\"24px\"viewBox=\"0 0 24 24\"\n",
              "     width=\"24px\">\n",
              "    <g>\n",
              "        <path d=\"M19 3H5c-1.1 0-2 .9-2 2v14c0 1.1.9 2 2 2h14c1.1 0 2-.9 2-2V5c0-1.1-.9-2-2-2zM9 17H7v-7h2v7zm4 0h-2V7h2v10zm4 0h-2v-4h2v4z\"/>\n",
              "    </g>\n",
              "</svg>\n",
              "  </button>\n",
              "\n",
              "<style>\n",
              "  .colab-df-quickchart {\n",
              "      --bg-color: #E8F0FE;\n",
              "      --fill-color: #1967D2;\n",
              "      --hover-bg-color: #E2EBFA;\n",
              "      --hover-fill-color: #174EA6;\n",
              "      --disabled-fill-color: #AAA;\n",
              "      --disabled-bg-color: #DDD;\n",
              "  }\n",
              "\n",
              "  [theme=dark] .colab-df-quickchart {\n",
              "      --bg-color: #3B4455;\n",
              "      --fill-color: #D2E3FC;\n",
              "      --hover-bg-color: #434B5C;\n",
              "      --hover-fill-color: #FFFFFF;\n",
              "      --disabled-bg-color: #3B4455;\n",
              "      --disabled-fill-color: #666;\n",
              "  }\n",
              "\n",
              "  .colab-df-quickchart {\n",
              "    background-color: var(--bg-color);\n",
              "    border: none;\n",
              "    border-radius: 50%;\n",
              "    cursor: pointer;\n",
              "    display: none;\n",
              "    fill: var(--fill-color);\n",
              "    height: 32px;\n",
              "    padding: 0;\n",
              "    width: 32px;\n",
              "  }\n",
              "\n",
              "  .colab-df-quickchart:hover {\n",
              "    background-color: var(--hover-bg-color);\n",
              "    box-shadow: 0 1px 2px rgba(60, 64, 67, 0.3), 0 1px 3px 1px rgba(60, 64, 67, 0.15);\n",
              "    fill: var(--button-hover-fill-color);\n",
              "  }\n",
              "\n",
              "  .colab-df-quickchart-complete:disabled,\n",
              "  .colab-df-quickchart-complete:disabled:hover {\n",
              "    background-color: var(--disabled-bg-color);\n",
              "    fill: var(--disabled-fill-color);\n",
              "    box-shadow: none;\n",
              "  }\n",
              "\n",
              "  .colab-df-spinner {\n",
              "    border: 2px solid var(--fill-color);\n",
              "    border-color: transparent;\n",
              "    border-bottom-color: var(--fill-color);\n",
              "    animation:\n",
              "      spin 1s steps(1) infinite;\n",
              "  }\n",
              "\n",
              "  @keyframes spin {\n",
              "    0% {\n",
              "      border-color: transparent;\n",
              "      border-bottom-color: var(--fill-color);\n",
              "      border-left-color: var(--fill-color);\n",
              "    }\n",
              "    20% {\n",
              "      border-color: transparent;\n",
              "      border-left-color: var(--fill-color);\n",
              "      border-top-color: var(--fill-color);\n",
              "    }\n",
              "    30% {\n",
              "      border-color: transparent;\n",
              "      border-left-color: var(--fill-color);\n",
              "      border-top-color: var(--fill-color);\n",
              "      border-right-color: var(--fill-color);\n",
              "    }\n",
              "    40% {\n",
              "      border-color: transparent;\n",
              "      border-right-color: var(--fill-color);\n",
              "      border-top-color: var(--fill-color);\n",
              "    }\n",
              "    60% {\n",
              "      border-color: transparent;\n",
              "      border-right-color: var(--fill-color);\n",
              "    }\n",
              "    80% {\n",
              "      border-color: transparent;\n",
              "      border-right-color: var(--fill-color);\n",
              "      border-bottom-color: var(--fill-color);\n",
              "    }\n",
              "    90% {\n",
              "      border-color: transparent;\n",
              "      border-bottom-color: var(--fill-color);\n",
              "    }\n",
              "  }\n",
              "</style>\n",
              "\n",
              "  <script>\n",
              "    async function quickchart(key) {\n",
              "      const quickchartButtonEl =\n",
              "        document.querySelector('#' + key + ' button');\n",
              "      quickchartButtonEl.disabled = true;  // To prevent multiple clicks.\n",
              "      quickchartButtonEl.classList.add('colab-df-spinner');\n",
              "      try {\n",
              "        const charts = await google.colab.kernel.invokeFunction(\n",
              "            'suggestCharts', [key], {});\n",
              "      } catch (error) {\n",
              "        console.error('Error during call to suggestCharts:', error);\n",
              "      }\n",
              "      quickchartButtonEl.classList.remove('colab-df-spinner');\n",
              "      quickchartButtonEl.classList.add('colab-df-quickchart-complete');\n",
              "    }\n",
              "    (() => {\n",
              "      let quickchartButtonEl =\n",
              "        document.querySelector('#df-5c77c3a0-0e04-4dbd-8577-d7dce87fe4b9 button');\n",
              "      quickchartButtonEl.style.display =\n",
              "        google.colab.kernel.accessAllowed ? 'block' : 'none';\n",
              "    })();\n",
              "  </script>\n",
              "</div>\n",
              "    </div>\n",
              "  </div>\n"
            ]
          },
          "metadata": {},
          "execution_count": 6
        }
      ]
    },
    {
      "cell_type": "code",
      "source": [
        "df = df[:10000]"
      ],
      "metadata": {
        "id": "A-FjhyF1U0mc"
      },
      "execution_count": 7,
      "outputs": []
    },
    {
      "cell_type": "markdown",
      "source": [
        "Instead of using the standard \\<EOS> and \\<SOS> tags we're using the letter S and E since they are not present in the vocabulary"
      ],
      "metadata": {
        "id": "bVUV1WDuvi7G"
      }
    },
    {
      "cell_type": "code",
      "source": [
        "df['text_hex'] = 'S' + df['text_hex'] + 'E'\n",
        "df['deflate_hex'] = 'S' + df['deflate_hex'] + 'E'"
      ],
      "metadata": {
        "id": "0RT1ITUEvGqg"
      },
      "execution_count": 8,
      "outputs": []
    },
    {
      "cell_type": "code",
      "execution_count": 9,
      "metadata": {
        "colab": {
          "base_uri": "https://localhost:8080/"
        },
        "id": "LE9OmLvsIdlf",
        "outputId": "4167d401-850a-439c-c64e-7a188b80ae70"
      },
      "outputs": [
        {
          "output_type": "execute_result",
          "data": {
            "text/plain": [
              "DatasetDict({\n",
              "    train: Dataset({\n",
              "        features: ['text', 'text_hex', 'deflate_hex'],\n",
              "        num_rows: 8000\n",
              "    })\n",
              "    valid: Dataset({\n",
              "        features: ['text', 'text_hex', 'deflate_hex'],\n",
              "        num_rows: 1000\n",
              "    })\n",
              "    test: Dataset({\n",
              "        features: ['text', 'text_hex', 'deflate_hex'],\n",
              "        num_rows: 1000\n",
              "    })\n",
              "})"
            ]
          },
          "metadata": {},
          "execution_count": 9
        }
      ],
      "source": [
        "ds = Dataset.from_pandas(df)\n",
        "ds_train_test = ds.train_test_split(test_size=0.2, seed=SEED)\n",
        "ds_test_dev = ds_train_test['test'].train_test_split(test_size=0.5, seed=SEED)\n",
        "ds_splits = DatasetDict({\n",
        "    'train': ds_train_test['train'],\n",
        "    'valid': ds_test_dev['train'],\n",
        "    'test': ds_test_dev['test']\n",
        "})\n",
        "\n",
        "ds_splits"
      ]
    },
    {
      "cell_type": "markdown",
      "source": [
        "# Tokenizzare in caratteri singoli o in sequenze di caratteri?"
      ],
      "metadata": {
        "id": "peMz7QU3qja8"
      }
    },
    {
      "cell_type": "code",
      "source": [
        "ds_splits['train'][0]"
      ],
      "metadata": {
        "colab": {
          "base_uri": "https://localhost:8080/"
        },
        "id": "q9OJyrpZqaoA",
        "outputId": "8e69d1d5-be54-4af2-b106-84350d2e189b"
      },
      "execution_count": 10,
      "outputs": [
        {
          "output_type": "execute_result",
          "data": {
            "text/plain": [
              "{'text': 'I really enjoyed this',\n",
              " 'text_hex': 'S49207265616c6c7920656e6a6f7965642074686973E',\n",
              " 'deflate_hex': 'S789cf354284a4dccc9a95448cdcbcaaf4c4d5128c9c82c0600533607d9E'}"
            ]
          },
          "metadata": {},
          "execution_count": 10
        }
      ]
    },
    {
      "cell_type": "markdown",
      "source": [
        "## Data tokenization"
      ],
      "metadata": {
        "id": "YBdD8nIBrL30"
      }
    },
    {
      "cell_type": "code",
      "source": [
        "token2id = {\"0\": 0, \"1\": 1, \"2\": 2, \"3\": 3, \"4\": 4, \"5\": 5, \"6\": 6, \"7\": 7, \"8\": 8, \"9\": 9, \"a\": 10, \"b\": 11, \"c\": 12, \"d\": 13, \"e\": 14, \"f\": 15, \"P\":16, \"S\": 17, \"E\":18 }"
      ],
      "metadata": {
        "id": "KJRiqX3zxmHR"
      },
      "execution_count": 11,
      "outputs": []
    },
    {
      "cell_type": "code",
      "source": [
        "def create_id2token_vocab(token_to_id):\n",
        "    id2token = {}\n",
        "    for token, id in token_to_id.items():\n",
        "        id2token[id] = token\n",
        "\n",
        "    return id2token\n",
        "\n",
        "id2token = create_id2token_vocab(token2id)\n",
        "id2token"
      ],
      "metadata": {
        "colab": {
          "base_uri": "https://localhost:8080/"
        },
        "id": "I4dMwVcvySQQ",
        "outputId": "5eb93c58-c71f-413a-dd2b-2e99d459e3a9"
      },
      "execution_count": 12,
      "outputs": [
        {
          "output_type": "execute_result",
          "data": {
            "text/plain": [
              "{0: '0',\n",
              " 1: '1',\n",
              " 2: '2',\n",
              " 3: '3',\n",
              " 4: '4',\n",
              " 5: '5',\n",
              " 6: '6',\n",
              " 7: '7',\n",
              " 8: '8',\n",
              " 9: '9',\n",
              " 10: 'a',\n",
              " 11: 'b',\n",
              " 12: 'c',\n",
              " 13: 'd',\n",
              " 14: 'e',\n",
              " 15: 'f',\n",
              " 16: 'P',\n",
              " 17: 'S',\n",
              " 18: 'E'}"
            ]
          },
          "metadata": {},
          "execution_count": 12
        }
      ]
    },
    {
      "cell_type": "code",
      "source": [
        "def collate_fn(batch):\n",
        "\n",
        "  def pad_sequences(sequences, maxlen, value=token2id['P']):\n",
        "    padded_sequences = []\n",
        "    for sequence in sequences:\n",
        "        padded_sequence = sequence[:maxlen]\n",
        "        padded_sequence.extend([value] * (maxlen - len(padded_sequence)))\n",
        "\n",
        "        padded_sequence = sequence +  [value] * (maxlen - len(sequence))\n",
        "        padded_sequences.append(padded_sequence)\n",
        "\n",
        "    return padded_sequences\n",
        "\n",
        "\n",
        "  texts = [elem['text_hex'] for elem in batch]\n",
        "  encoded_hex = [[token2id[x] for x in hex] for hex in texts]\n",
        "\n",
        "\n",
        "  outputs = [elem['deflate_hex'] for elem in batch]\n",
        "  encoded_outputs = [[token2id[x] for x in hex] for hex in outputs]\n",
        "\n",
        "\n",
        "  maxlen = 0\n",
        "  for seq in encoded_hex:\n",
        "    if len(seq) > maxlen:\n",
        "      maxlen = len(seq)\n",
        "  for seq in encoded_outputs:\n",
        "    if len(seq) > maxlen:\n",
        "      maxlen = len(seq)\n",
        "\n",
        "  padded_encoded_hex = pad_sequences(encoded_hex, maxlen)\n",
        "  padded_encoded_outputs = pad_sequences(encoded_outputs, maxlen)\n",
        "\n",
        "\n",
        "  return {\n",
        "      'inputs': torch.tensor(padded_encoded_hex),\n",
        "      \"outputs\": torch.tensor(padded_encoded_outputs)\n",
        "  }\n",
        "\n",
        "\n",
        "BATCH_SIZE = 32\n",
        "train_dataloader = DataLoader(ds_splits['train'], batch_size=BATCH_SIZE, collate_fn=collate_fn, shuffle=True, num_workers=2)\n",
        "validation_dataloader = DataLoader(ds_splits['valid'], batch_size=BATCH_SIZE, collate_fn=collate_fn, shuffle=False, num_workers=2)\n",
        "test_dataloader = DataLoader(ds_splits['test'], batch_size=BATCH_SIZE, collate_fn=collate_fn, shuffle=False, num_workers=2)\n"
      ],
      "metadata": {
        "id": "VF82QijJt4nw"
      },
      "execution_count": 13,
      "outputs": []
    },
    {
      "cell_type": "code",
      "source": [
        "next(iter(train_dataloader))"
      ],
      "metadata": {
        "colab": {
          "base_uri": "https://localhost:8080/"
        },
        "id": "T9EtI_ILv8Ti",
        "outputId": "45de71cf-2f9b-4201-df50-4d54ce5497ca"
      },
      "execution_count": 14,
      "outputs": [
        {
          "output_type": "execute_result",
          "data": {
            "text/plain": [
              "{'inputs': tensor([[17,  5,  9,  ..., 16, 16, 16],\n",
              "         [17,  5,  7,  ..., 16, 16, 16],\n",
              "         [17,  4, 15,  ..., 16, 16, 16],\n",
              "         ...,\n",
              "         [17,  4,  2,  ..., 16, 16, 16],\n",
              "         [17,  4,  5,  ..., 16, 16, 16],\n",
              "         [17,  5,  4,  ..., 16, 16, 16]]),\n",
              " 'outputs': tensor([[17,  7,  8,  ..., 16, 16, 16],\n",
              "         [17,  7,  8,  ..., 16, 16, 16],\n",
              "         [17,  7,  8,  ..., 16, 16, 16],\n",
              "         ...,\n",
              "         [17,  7,  8,  ..., 16, 16, 16],\n",
              "         [17,  7,  8,  ..., 16, 16, 16],\n",
              "         [17,  7,  8,  ..., 16, 16, 16]])}"
            ]
          },
          "metadata": {},
          "execution_count": 14
        }
      ]
    },
    {
      "cell_type": "markdown",
      "source": [
        "# Model"
      ],
      "metadata": {
        "id": "hdvnGQ8WZ_a6"
      }
    },
    {
      "cell_type": "code",
      "source": [
        "class Encoder(nn.Module):\n",
        "  def __init__(self, vocab_len, embedding_dim, hidden_dim, num_layers, bidirectional, dropout):\n",
        "    super().__init__()\n",
        "\n",
        "    self.vocab_len = vocab_len\n",
        "    self.embedding_dim = embedding_dim\n",
        "    self.hidden_dim = hidden_dim\n",
        "\n",
        "    self.embedding = nn.Embedding(vocab_len, embedding_dim, padding_idx=token2id['P'])\n",
        "    self.lstm = nn.LSTM(embedding_dim, hidden_dim, num_layers=num_layers, bidirectional=bidirectional, dropout=dropout)\n",
        "    self.dropout = nn.Dropout(dropout)\n",
        "\n",
        "  def forward(self, batch):\n",
        "    # batch has dimension [sentence_length, batch_size]\n",
        "    x = self.embedding(batch)\n",
        "    x = self.dropout(x)\n",
        "    logits, (h, c) = self.lstm(x)\n",
        "    # we don't need to return the outputs as we just need to pass the\n",
        "    # context vector to the decoder block\n",
        "    return (h, c)\n"
      ],
      "metadata": {
        "id": "b_yHFnX4aAUM"
      },
      "execution_count": 15,
      "outputs": []
    },
    {
      "cell_type": "code",
      "source": [
        "class Decoder(nn.Module):\n",
        "  def __init__(self, vocab_len, embedding_dim, hidden_dim, output_dim, num_layers, bidirectional, dropout):\n",
        "    super().__init__()\n",
        "    self.embedding_dim = embedding_dim\n",
        "    self.hidden_dim = hidden_dim\n",
        "    self.output_dim = output_dim\n",
        "\n",
        "    self.embedding = nn.Embedding(vocab_len, embedding_dim, padding_idx=token2id['P'])\n",
        "    self.lstm = nn.LSTM(embedding_dim, hidden_dim, num_layers=num_layers, bidirectional=bidirectional, dropout=dropout)\n",
        "    self.dropout = nn.Dropout(dropout)\n",
        "    self.linear = nn.Linear(hidden_dim, output_dim)\n",
        "\n",
        "  def forward(self, x, h, c):\n",
        "    # x shape: (N) where N is for batch size, we want it to be (1, N), seq_length\n",
        "    # is 1 here because we are sending in a single word and not a sentence\n",
        "    x = x.unsqueeze(0)\n",
        "\n",
        "    embedding = self.dropout(self.embedding(x))\n",
        "    out, (h, c) = self.lstm(embedding, (h, c))\n",
        "    logits = self.linear(out)\n",
        "    logits = logits.squeeze(0)\n",
        "    return logits, h, c"
      ],
      "metadata": {
        "id": "fyoFzpgNrCBs"
      },
      "execution_count": 16,
      "outputs": []
    },
    {
      "cell_type": "code",
      "source": [
        "class EncoderDecoder(nn.Module):\n",
        "  def __init__(self, encoder, decoder):\n",
        "    super().__init__()\n",
        "    self.encoder = encoder\n",
        "    self.decoder = decoder\n",
        "\n",
        "  def forward(self, source, target, teacher_forcing_ratio = 0.5):\n",
        "    target_len = source.shape[0]\n",
        "    batch_size = source.shape[1]\n",
        "    target_vocab_size = len(token2id)\n",
        "\n",
        "    outputs = torch.zeros(target_len, batch_size, target_vocab_size).to(device)\n",
        "\n",
        "    h, c = self.encoder(source)\n",
        "    x = target[0]\n",
        "\n",
        "    for t in range(1, target_len):\n",
        "      output, h, c = self.decoder(x, h, c)\n",
        "      outputs[t] = output\n",
        "      pred = output.argmax(1)\n",
        "\n",
        "      x = target[t] if random.random() < teacher_forcing_ratio else pred\n",
        "\n",
        "    return outputs"
      ],
      "metadata": {
        "id": "cXkh880CeAZq"
      },
      "execution_count": 17,
      "outputs": []
    },
    {
      "cell_type": "markdown",
      "source": [
        "# Training"
      ],
      "metadata": {
        "id": "0YNs_PbllLqi"
      }
    },
    {
      "cell_type": "code",
      "source": [
        "EPOCHS = 20\n",
        "LR = 1e-3\n",
        "EMBEDDING_DIM = 256\n",
        "HIDDEN_DIM = 1024\n",
        "NUM_LAYERS = 4\n",
        "DROPOUT = 0.3\n",
        "BIDIRECTIONAL = False\n",
        "\n",
        "encoder = Encoder(len(token2id), EMBEDDING_DIM, HIDDEN_DIM, NUM_LAYERS, BIDIRECTIONAL, DROPOUT).to(device)\n",
        "decoder = Decoder(len(token2id), EMBEDDING_DIM, HIDDEN_DIM, len(token2id), NUM_LAYERS, BIDIRECTIONAL, DROPOUT).to(device)\n",
        "model = EncoderDecoder(encoder, decoder).to(device)\n",
        "\n",
        "optimizer = torch.optim.Adam(model.parameters(), lr=LR)\n",
        "criterion = nn.CrossEntropyLoss(ignore_index = token2id['P'])"
      ],
      "metadata": {
        "id": "4br8jovUwBsB"
      },
      "execution_count": 33,
      "outputs": []
    },
    {
      "cell_type": "code",
      "source": [
        "for epoch in range(EPOCHS):\n",
        "  model.train()\n",
        "  epoch_loss = 0\n",
        "  for i, batch in enumerate(train_dataloader):\n",
        "    inputs = batch['inputs'].to(device)\n",
        "    targets = batch['outputs'].to(device)\n",
        "\n",
        "    output = model(inputs, targets)\n",
        "\n",
        "    output = output[1:].reshape(-1, output.shape[2])\n",
        "    targets = targets[1:].reshape(-1)\n",
        "\n",
        "    optimizer.zero_grad()\n",
        "    loss = criterion(output, targets)\n",
        "\n",
        "    loss.backward()\n",
        "    #torch.nn.utils.clip_grad_norm_(model.parameters(), max_norm=1)\n",
        "    optimizer.step()\n",
        "\n",
        "    epoch_loss += loss.item()\n",
        "\n",
        "  print(f\"Epoch {epoch+1}: Loss = {epoch_loss/len(train_dataloader)}\")"
      ],
      "metadata": {
        "colab": {
          "base_uri": "https://localhost:8080/"
        },
        "id": "HX3UetO5xAgU",
        "outputId": "bc2f3f9e-21e6-4255-d019-ec4f0ac7503d"
      },
      "execution_count": 35,
      "outputs": [
        {
          "output_type": "stream",
          "name": "stdout",
          "text": [
            "Epoch 1: Loss = 2.163138861656189\n",
            "Epoch 2: Loss = 2.0930136556625367\n",
            "Epoch 3: Loss = 2.086097363471985\n",
            "Epoch 4: Loss = 2.0803390345573427\n",
            "Epoch 5: Loss = 2.07758845615387\n",
            "Epoch 6: Loss = 2.0748239793777468\n",
            "Epoch 7: Loss = 2.072451006412506\n",
            "Epoch 8: Loss = 2.0696512937545775\n",
            "Epoch 9: Loss = 2.0667436790466307\n",
            "Epoch 10: Loss = 2.0645857133865357\n",
            "Epoch 11: Loss = 2.071227045536041\n",
            "Epoch 12: Loss = 2.069625972270966\n",
            "Epoch 13: Loss = 2.0679206938743593\n",
            "Epoch 14: Loss = 2.062342148780823\n",
            "Epoch 15: Loss = 2.0605491228103636\n",
            "Epoch 16: Loss = 2.0595159821510314\n",
            "Epoch 17: Loss = 2.0591312804222106\n",
            "Epoch 18: Loss = 2.0580504875183108\n",
            "Epoch 19: Loss = 2.0576289305686952\n",
            "Epoch 20: Loss = 2.056765923976898\n"
          ]
        }
      ]
    },
    {
      "cell_type": "code",
      "source": [
        "with torch.no_grad():\n",
        "  batch = next(iter(test_dataloader))\n",
        "  h, c = model.encoder(batch['inputs'][0].unsqueeze(1).to(device))\n",
        "\n",
        "  outputs = [token2id[\"S\"]]\n",
        "  for i in range(60):\n",
        "    prev = torch.LongTensor([outputs[-1]]).to(device)\n",
        "    out, h, c = model.decoder(prev, h, c)\n",
        "    pred = out.argmax(1).item()\n",
        "\n",
        "    outputs.append(pred)\n",
        "    if pred == token2id['E']:\n",
        "      break\n",
        "\n",
        "  print(f\"Outputs = {outputs}\")"
      ],
      "metadata": {
        "colab": {
          "base_uri": "https://localhost:8080/"
        },
        "id": "6bXTjWSC1YZ0",
        "outputId": "2daae1bd-319a-48de-adce-7c8cd96bdf67"
      },
      "execution_count": 31,
      "outputs": [
        {
          "output_type": "stream",
          "name": "stdout",
          "text": [
            "Outputs = [17, 12, 12, 0, 0, 0, 0, 0, 0, 0, 0, 0, 0, 0, 0, 0, 0, 0, 0, 0, 0, 0, 0, 0, 0, 0, 0, 0, 0, 0, 0, 0, 0, 0, 0, 0, 0, 0, 0, 0, 0, 0, 0, 0, 0, 0, 0, 0, 0, 0, 0, 0, 0, 0, 0, 0, 0, 0, 0, 0, 0]\n"
          ]
        }
      ]
    }
  ],
  "metadata": {
    "colab": {
      "provenance": [],
      "gpuType": "T4"
    },
    "kernelspec": {
      "display_name": "Python 3",
      "name": "python3"
    },
    "language_info": {
      "name": "python"
    },
    "accelerator": "GPU"
  },
  "nbformat": 4,
  "nbformat_minor": 0
}