{
 "cells": [
  {
   "cell_type": "code",
   "execution_count": 9,
   "metadata": {},
   "outputs": [],
   "source": [
    "%%capture\n",
    "%pip install torch pandas lightning trl\n",
    "\n",
    "import torch\n",
    "from torch import nn\n",
    "import pytorch_lightning as pl\n",
    "from datasets import load_dataset, Dataset, DatasetDict\n",
    "import pandas as pd\n",
    "\n",
    "import numpy as np\n",
    "from torch.utils.data import DataLoader, TensorDataset\n",
    "from transformers import BartForConditionalGeneration, BartTokenizer"
   ]
  },
  {
   "cell_type": "code",
   "execution_count": 10,
   "metadata": {},
   "outputs": [
    {
     "name": "stdout",
     "output_type": "stream",
     "text": [
      "Device: cpu\n"
     ]
    }
   ],
   "source": [
    "SEED = 999\n",
    "torch.manual_seed(SEED)\n",
    "\n",
    "if torch.cuda.is_available():\n",
    "    torch.cuda.manual_seed(SEED)\n",
    "    torch.cuda.manual_seed_all(SEED)\n",
    "\n",
    "#set device\n",
    "device = torch.device('cuda' if torch.cuda.is_available() else 'cpu')\n",
    "print(\"Device:\", device)\n"
   ]
  },
  {
   "cell_type": "code",
   "execution_count": 13,
   "metadata": {},
   "outputs": [],
   "source": [
    "import pandas as pd\n",
    "from torch.utils.data import DataLoader, Dataset\n",
    "import torch\n",
    "import torch.nn.functional as F\n",
    "\n",
    "# Custom Dataset\n",
    "class TextHexDataset(Dataset):\n",
    "    def __init__(self, dataframe):\n",
    "        self.dataframe = dataframe\n",
    "\n",
    "    def __len__(self):\n",
    "        return len(self.dataframe)\n",
    "\n",
    "    def __getitem__(self, idx):\n",
    "        text = self.dataframe.iloc[idx]['text_hex']\n",
    "        text = [int(x, 16) for x in text]\n",
    "\n",
    "        #pad to reach 256\n",
    "        padded_text = text + [20] * (256 - len(text))\n",
    "        tensor_text = torch.tensor(padded_text, dtype=torch.float)\n",
    "\n",
    "        # Convert hex into tensor\n",
    "        hex_data = self.dataframe.iloc[idx]['deflate_hex']\n",
    "        hex_data = [int(x, 16) for x in hex_data]\n",
    "\n",
    "        #pad to reach 256\n",
    "        padded_hex_data = hex_data + [20] * (256 - len(hex_data))\n",
    "        tensor_hex_data = torch.tensor(padded_hex_data, dtype=torch.float)\n",
    "        return tensor_text, tensor_hex_data\n",
    "\n",
    "# Load the dataset\n",
    "df = pd.read_csv('../../Datasets/shorthex2hex.csv')\n",
    "\n",
    "# Create datasets\n",
    "dataset = TextHexDataset(df)\n",
    "\n",
    "# Split the dataset\n",
    "train_size = int(0.8 * len(dataset))\n",
    "val_size = len(dataset) - train_size\n",
    "\n",
    "train_dataset, val_dataset = torch.utils.data.random_split(dataset, [train_size, val_size])\n",
    "\n",
    "# DataLoaders with batch_size = 1\n",
    "train_dataloader = DataLoader(train_dataset, batch_size=16, shuffle=True, num_workers = 4)\n",
    "val_dataloader = DataLoader(val_dataset, batch_size=16, num_workers = 4)"
   ]
  },
  {
   "cell_type": "code",
   "execution_count": 14,
   "metadata": {},
   "outputs": [
    {
     "name": "stdout",
     "output_type": "stream",
     "text": [
      "Sanity Checking DataLoader 0:   0%|          | 0/2 [00:00<?, ?it/s]val_loss tensor(326.6190)\n",
      "Sanity Checking DataLoader 0:  50%|█████     | 1/2 [00:00<00:00, 11.11it/s]val_loss tensor(326.1970)\n",
      "Epoch 0:   3%|▎         | 74/2500 [00:04<02:37, 15.44it/s]                 "
     ]
    },
    {
     "name": "stderr",
     "output_type": "stream",
     "text": [
      "/home/tommaiberone/.local/lib/python3.10/site-packages/pytorch_lightning/trainer/call.py:54: Detected KeyboardInterrupt, attempting graceful shutdown...\n"
     ]
    }
   ],
   "source": [
    "class LSTM(pl.LightningModule):\n",
    "    def __init__(self, input_dim=256, hidden_dim=256, output_dim=256, num_layers=2, dropout_rate=0.1, learning_rate=0.1):\n",
    "        super().__init__()\n",
    "        self.lstm = nn.LSTM(input_dim, hidden_dim, num_layers, batch_first=True, bidirectional=True, dropout=dropout_rate)\n",
    "        self.fc = nn.Linear(hidden_dim * 2, output_dim)  # Multiply by 2 for bidirectional\n",
    "        self.learning_rate = learning_rate\n",
    "        self.loss = nn.MSELoss()\n",
    "        \n",
    "    def forward(self, x):\n",
    "        x, _ = self.lstm(x)\n",
    "        x = self.fc(x)\n",
    "        return x\n",
    "\n",
    "    def configure_optimizers(self):\n",
    "        optimizer = torch.optim.AdamW(self.parameters(), lr=self.learning_rate)\n",
    "        scheduler = torch.optim.lr_scheduler.StepLR(optimizer, step_size=5, gamma=0.1)\n",
    "        return [optimizer], [scheduler]\n",
    "\n",
    "    def training_step(self, batch, batch_idx):\n",
    "        x, y = batch\n",
    "        x.to(device)\n",
    "        y.to(device)\n",
    "        y_hat = self(x)\n",
    "        loss = self.loss(y_hat, y)\n",
    "\n",
    "        return loss\n",
    "\n",
    "    def validation_step(self, batch, batch_idx):\n",
    "        x, y = batch\n",
    "        x.to(device)\n",
    "        y.to(device)\n",
    "        y_hat = self(x)\n",
    "        loss = self.loss(y_hat, y)\n",
    "        print('val_loss', loss)\n",
    "\n",
    "model = LSTM().to(device)\n",
    "\n",
    "# Define the trainer with 50 epochs and showing eval results every 10 epochs\n",
    "trainer = pl.Trainer(max_epochs=10, enable_checkpointing=False, logger=False)\n",
    "\n",
    "# Train the model ⚡\n",
    "trainer.fit(model, train_dataloader, val_dataloader)\n",
    "\n"
   ]
  },
  {
   "cell_type": "code",
   "execution_count": null,
   "metadata": {},
   "outputs": [
    {
     "name": "stdout",
     "output_type": "stream",
     "text": [
      "torch.Size([256, 83])\n",
      "torch.Size([256, 1232])\n",
      "torch.Size([256, 1232])\n",
      "<s>Just reading why this show got canceled makes me rather steamed. This was a favorite of mine as a kid</s><s><s><s><s><s><s><s><s><s><s><s><s><s><s><s><s><s><s><s><s><s><s><s><s><s><s><s><s><s><s><s><s><s><s><s><s><s><s><s><s><s><s><s><s><s><s><s><s><s><s><s><s><s><s><s><s><s><s><s>\n",
      "01111000100111000001110111001010110000010000110110000000001000000001000000000100110000000101011010110110000000100000101111110001011011010000001100010111010110001110000010000010010000001100001010011101000100101011101100110111111110101001110111001100011111101001100101100011010100101010001011110110100011000101010100011110011110000101000110000011100101011011000110010000100001110010001101001000000011110011110000011001110100011010010011010010110100001000100000101001010111100011100001100001010011100110100110001100000110111000111011101111001011110011000100001000100100101101110001100011101010100001001100100011101000010110100100100111011111101010110100011010010111110101011110101110001001000011010000000000000000000000000000000000000000000000000000000000000000000000000000000000000000000000000000000000000000000000000000000000000000000000000000000000000000000000000000000000000000000000000000000000000000000000000000000000000000000000000000000000000000000000000000000000000000000000000000000000000000000000000000000000000000000000000000000000000000000000000000000000000000000000000000000000000000000000000000000000000000000000000000000000000000000000000000000000000000000000000000000000000000000000000000000000000000000000000000000000\n",
      "01111000100111000000000110000000000000010000000000000000000000000000000000000000000000000000000000000000000000000000000000000000000000000000000000000000000000000000000000000000000000000000000000000000000000000000000000000000000000000000000000000000000000000000000000000000000000000000000000000000000000000000000000000000000000000000000000000000000000000000000000000000000000000000000000000000000000000000000000000000000000000000000000000000000000000000000000000000000000000000000000000000000000000000000000000000000000000000000000000000000000000000000000000000000000000000000000000000000000000000000000000000000000000000000000000000000000000000000000000000000000000000000000000000000000000000000000000000000000000000000000000000000000000000000000000000000000000000000000000000000000000000000000000000000000000000000000000000000000000000000000000000000000000000000000000000000000000000000000000000000000000000000000000000000000000000000000000000000000000000000000000000000000000000000000000000000000000000000000000000000000000000000000000000000000000000000000000000000000000000000000000000000000000000000000000000000000000000000000000000000000000000000000000000000000000000000000000000000000000000000000000000000000000000000000000000\n"
     ]
    }
   ],
   "source": [
    "import nltk\n",
    "from nltk.metrics.distance import edit_distance\n",
    "\n",
    "model.to('cpu')\n",
    "\n",
    "def decimal_to_hexadecimal(decimal):    \n",
    "    hex_digits = \"0123456789abcdefghilmnopqrstuvzppppppppppppppppppppp\"\n",
    "    return hex_digits[decimal]\n",
    "\n",
    "hex_predictions = []\n",
    "hex_golds = []\n",
    "scores = []\n",
    "\n",
    "for text, gold in val_dataloader:\n",
    "\n",
    "    prediction = model.forward(text).tolist()[0]\n",
    "\n",
    "    #round every elem in prediction\n",
    "    prediction = [round(x) for x in prediction]\n",
    "\n",
    "    #set to 0 every negative elem in prediction\n",
    "    prediction = [max(0, x) for x in prediction]\n",
    "\n",
    "    #convert every 0 to 0, 1 to 1, ... , 15 to f\n",
    "    hex_prediction = [decimal_to_hexadecimal(x) for x in prediction]\n",
    "\n",
    "    gold = [round(x) for x in gold[0].tolist()]\n",
    "\n",
    "    hex_gold = [decimal_to_hexadecimal(x) for x in gold]\n",
    "\n",
    "    #convert to string\n",
    "    hex_prediction = ''.join(hex_prediction)\n",
    "    hex_gold = ''.join(hex_gold)\n",
    "\n",
    "    print(hex_prediction)\n",
    "    print(hex_gold)\n",
    "\n",
    "    hex_predictions.append(hex_prediction)\n",
    "    hex_golds.append(hex_gold)\n",
    "\n",
    "    scores.append(edit_distance(hex_prediction, hex_gold))\n",
    "\n",
    "# Convert hex strings to integers\n",
    "print(f\"Average distance is {np.mean(scores)}\")"
   ]
  }
 ],
 "metadata": {
  "kernelspec": {
   "display_name": "Python 3",
   "language": "python",
   "name": "python3"
  },
  "language_info": {
   "codemirror_mode": {
    "name": "ipython",
    "version": 3
   },
   "file_extension": ".py",
   "mimetype": "text/x-python",
   "name": "python",
   "nbconvert_exporter": "python",
   "pygments_lexer": "ipython3",
   "version": "3.11.7"
  }
 },
 "nbformat": 4,
 "nbformat_minor": 2
}
